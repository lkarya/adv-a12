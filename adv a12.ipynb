{
 "cells": [
  {
   "cell_type": "code",
   "execution_count": null,
   "id": "15998ebe",
   "metadata": {},
   "outputs": [],
   "source": [
    "# Does assigning a value to a string's indexed character violate Python's string immutability?\n",
    "\n",
    "In Python, a string is immutable. You cannot overwrite the values of immutable objects. \n",
    "However, you can assign the variable again."
   ]
  },
  {
   "cell_type": "code",
   "execution_count": null,
   "id": "72f5df24",
   "metadata": {},
   "outputs": [],
   "source": [
    "# In Python, how many different ways are there to index a character?\n",
    "\n",
    "We can access characters in a String in Two ways : Accessing Characters by Positive Index Number. \n",
    "    Accessing Characters by Negative Index Number."
   ]
  },
  {
   "cell_type": "code",
   "execution_count": null,
   "id": "eb6103dc",
   "metadata": {},
   "outputs": [],
   "source": [
    "# What is an indexed character&#39;s exact data type? What is the data form of a slicing-generated substring?\n",
    "\n",
    "So far we have seen built-in types like: int, float, bool, str and we’ve seen lists. int, float, \n",
    "and bool are considered to be simple or primitive data types because their values are not composed of any smaller parts. \n",
    "They cannot be broken down. \n",
    "On the other hand, strings and lists are different from the others because they are made up of smaller pieces. \n",
    "In the case of strings, they are made up of smaller strings each containing one character."
   ]
  },
  {
   "cell_type": "code",
   "execution_count": null,
   "id": "ddd98b4e",
   "metadata": {},
   "outputs": [],
   "source": [
    "# Identify at least two operators and one method that allow you to combine one or more smaller strings to create a larger string.\n",
    "\n",
    "The most common among them is using the plus (“+”) operator. You can combine both string variables and string literals using the “+” operator. \n",
    "However, there's another method that allows an easy way of concatenating multiple strings. \n",
    "It is using the in-place (+=) operator."
   ]
  },
  {
   "cell_type": "code",
   "execution_count": null,
   "id": "b1e05a12",
   "metadata": {},
   "outputs": [],
   "source": [
    "# Which operators and built-in string methods produce simple Boolean (true/false) results?\n",
    "\n",
    "The Python Boolean type is one of Python’s built-in data types. It’s used to represent the truth value of an expression. \n",
    "For example, the expression 1 <= 2 is True, while the expression 0 == 1 is False. \n",
    "Understanding how Python Boolean values behave is important to programming well in Python."
   ]
  }
 ],
 "metadata": {
  "kernelspec": {
   "display_name": "Python 3 (ipykernel)",
   "language": "python",
   "name": "python3"
  },
  "language_info": {
   "codemirror_mode": {
    "name": "ipython",
    "version": 3
   },
   "file_extension": ".py",
   "mimetype": "text/x-python",
   "name": "python",
   "nbconvert_exporter": "python",
   "pygments_lexer": "ipython3",
   "version": "3.9.7"
  }
 },
 "nbformat": 4,
 "nbformat_minor": 5
}
